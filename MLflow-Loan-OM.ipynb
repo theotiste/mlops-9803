{
 "cells": [
  {
   "cell_type": "code",
   "execution_count": null,
   "id": "675b3b2d-7f69-4e17-a570-d2a0b779fcb9",
   "metadata": {},
   "outputs": [],
   "source": [
    "#version de python\n",
    "import sys\n",
    "sys.version"
   ]
  },
  {
   "cell_type": "code",
   "execution_count": null,
   "id": "2226f6a2-5369-4286-a8a7-0b61307c5a04",
   "metadata": {},
   "outputs": [],
   "source": [
    "#version de pycaret\n",
    "import pycaret\n",
    "print(pycaret.__version__)"
   ]
  },
  {
   "cell_type": "code",
   "execution_count": null,
   "id": "c1b42f54-68b7-4ab4-a869-817e5fdb35d0",
   "metadata": {},
   "outputs": [],
   "source": [
    "#version de mlflow\n",
    "import mlflow\n",
    "print(mlflow.__version__)"
   ]
  },
  {
   "cell_type": "code",
   "execution_count": null,
   "id": "e40e94eb-0728-49ef-bb3f-2c9335aae64c",
   "metadata": {},
   "outputs": [],
   "source": [
    "#changer de dossier\n",
    "import os\n",
    "os.chdir(\"C:/Users/lucie/venv\")"
   ]
  },
  {
   "cell_type": "code",
   "execution_count": null,
   "id": "386fbfde-379b-432d-a124-63bb427dc17d",
   "metadata": {},
   "outputs": [],
   "source": [
    "import mlflow\n",
    "import time\n",
    "#importation de l'outil d'expérimentation de pycaret\n",
    "from pycaret.classification import ClassificationExperiment\n",
    "#mlflow.set_tracking_uri(\"file:///C:/Users/lucie/venv/mlruns\")\n",
    "mlflow.set_tracking_uri(\"http://127.0.0.1:5000\")\n"
   ]
  },
  {
   "cell_type": "code",
   "execution_count": null,
   "id": "f93261b0-786a-405f-beb5-faea214d51f9",
   "metadata": {},
   "outputs": [],
   "source": [
    "#chargement des données \n",
    "import pandas as pd\n",
    "data = pd.read_csv('Loan_Data.csv')\n",
    "data.info()"
   ]
  },
  {
   "cell_type": "code",
   "execution_count": null,
   "id": "b608bb9a-df12-4359-8b9c-ac29642c616e",
   "metadata": {},
   "outputs": [],
   "source": [
    "import mlflow\n",
    "from pycaret.classification import ClassificationExperiment\n",
    "import pandas as pd\n",
    "\n",
    "# S'assurer que toute session MLflow précédente est fermée\n",
    "if mlflow.active_run():\n",
    "    mlflow.end_run()\n",
    "\n",
    "# Session secondaire avec suivi MLflow\n",
    "with mlflow.start_run(run_name=\"optimisation_modele\"):\n",
    "    \n",
    "    #  Initialisation et configuration de la session secondaire\n",
    "    start_time = time.time()\n",
    "    session_bis = ClassificationExperiment()\n",
    "    session_bis.setup(data, normalize=True, target='default', train_size=0.7,\n",
    "                      data_split_stratify=True, fold=5, session_id=1,\n",
    "                      log_experiment=True, experiment_name=\"optimisation_modele\")\n",
    "    duration = time.time() - start_time\n",
    "    mlflow.log_param(\"duration_setup\", duration)\n",
    "\n",
    "    # Comparaison des modèles\n",
    "    model_list = ['lr', 'nb', 'dt', 'rf', 'svm', 'lda']\n",
    "    model_durations = {}\n",
    "\n",
    "    for model in model_list:\n",
    "        start_time = time.time()\n",
    "        mdl = session_bis.create_model(model)\n",
    "        duration = time.time() - start_time\n",
    "        model_durations[model] = duration\n",
    "        mlflow.log_param(f\"duration_{model}\", duration)\n",
    "\n",
    "    #  Sélection du meilleur modèle (hors boucle)\n",
    "    best_model = session_bis.compare_models(sort='Accuracy', include=model_list, verbose=True)\n",
    "    print(\"Durées d'entraînement par modèle :\", model_durations)\n",
    "\n",
    "    # Vérifier le type de modèle sélectionné\n",
    "    model_name = str(best_model)\n",
    "    print(f\"Modèle sélectionné : {model_name}\")\n",
    "\n",
    "    # Définir une grille d'hyperparamètres adaptée\n",
    "    if \"LogisticRegression\" in model_name:\n",
    "        param_grid = {'C': [0.01, 0.1, 1, 10, 100]}  # Paramètres valides pour LogisticRegression\n",
    "    elif \"DecisionTree\" in model_name:\n",
    "       param_grid = {'min_samples_split': [2, 10, 20], 'max_depth': [5, 10, None]}\n",
    "    elif \"RandomForest\" in model_name:\n",
    "       param_grid = {'n_estimators': [50, 100, 200], 'max_depth': [5, 10, None]}\n",
    "    else:\n",
    "      param_grid = {}  # Si le modèle sélectionné n'est pas connu, ne pas tuner.\n",
    "\n",
    "    #  Lancer l'optimisation des hyperparamètres uniquement si une grille est définie\n",
    "    if param_grid:\n",
    "       start_time = time.time()\n",
    "       tuned_mybest, essais = session_bis.tune_model(best_model, optimize=\"Accuracy\",\n",
    "                                                  choose_better=True,\n",
    "                                                  custom_grid=param_grid,\n",
    "                                                  search_algorithm='grid',\n",
    "                                                  return_tuner=True)\n",
    "       duration = time.time() - start_time\n",
    "       mlflow.log_param(\"duration_tune_model\", duration)\n",
    "       print(\"Modèle optimisé :\", tuned_mybest)\n",
    "    else:\n",
    "        print(\"Aucun tuning appliqué, modèle non pris en charge.\")\n",
    "        tuned_mybest = best_model\n",
    " \n",
    "    #  Enregistrer les meilleurs paramètres trouvés\n",
    "    best_params = tuned_mybest.get_params()\n",
    "    for param, value in best_params.items():\n",
    "        mlflow.log_param(f\"best_{param}\", value)\n",
    "\n",
    "    #  Évaluation sur l'échantillon de test\n",
    "    start_time = time.time()\n",
    "    predictions = session_bis.predict_model(tuned_mybest)\n",
    "    duration = time.time() - start_time\n",
    "    mlflow.log_param(\"duration_predict_model\", duration)\n",
    "    print(predictions)\n",
    "\n",
    "    # Finalisation et ré-entrainement du modèle sur l'ensemble des données\n",
    "    start_time = time.time()\n",
    "    modele_definitif = session_bis.finalize_model(tuned_mybest)\n",
    "    duration = time.time() - start_time\n",
    "    mlflow.log_param(\"duration_finalize_model\", duration)\n",
    "    print(modele_definitif)\n",
    "\n",
    "    import os\n",
    "    # Passer à MLflow 2.20.2\n",
    "    os.system(\"conda activate theo1_env\")\n",
    "    #  Enregistrement du modèle \"optimisation-model\" dans MLflow\n",
    "    import mlflow.sklearn\n",
    "    if hasattr(best_model, \"estimators_\"):\n",
    "         best_model = best_model.estimators_[0]  # Prendre le premier modèle du pipeline\n",
    "         mlflow.sklearn.log_model(best_model, \"recherche-model\")\n",
    "         # Ajouter au registre MLflow\n",
    "         mlflow.register_model(f\"runs:/{mlflow.active_run().info.run_id}/optimisation-model\", \"optimisation-model\")\n",
    "        \n",
    "         # Revenir à MLflow 1.30.1\n",
    "         os.system(\"conda activate theo_env\")\n",
    "   \n",
    "# Fin explicite de la session (facultatif ici car le 'with' gère la fermeture)\n",
    "mlflow.end_run()\n"
   ]
  },
  {
   "cell_type": "code",
   "execution_count": null,
   "id": "a4df14c6-b09d-43a8-9d93-dae6effdd0fc",
   "metadata": {},
   "outputs": [],
   "source": []
  },
  {
   "cell_type": "code",
   "execution_count": null,
   "id": "f8cb9d0e-0331-4d16-97d7-a4ce7b8789ec",
   "metadata": {},
   "outputs": [],
   "source": []
  },
  {
   "cell_type": "code",
   "execution_count": null,
   "id": "8146adbc-1cde-4071-8585-6c3e720745e2",
   "metadata": {},
   "outputs": [],
   "source": []
  },
  {
   "cell_type": "code",
   "execution_count": null,
   "id": "688f0bd6-4900-442b-bee9-940a231c7d7d",
   "metadata": {},
   "outputs": [],
   "source": []
  },
  {
   "cell_type": "code",
   "execution_count": null,
   "id": "9e6d6d1d-eea2-43de-aeb1-5f593fbe16ff",
   "metadata": {},
   "outputs": [],
   "source": []
  }
 ],
 "metadata": {
  "kernelspec": {
   "display_name": "Python 3 (ipykernel)",
   "language": "python",
   "name": "python3"
  },
  "language_info": {
   "codemirror_mode": {
    "name": "ipython",
    "version": 3
   },
   "file_extension": ".py",
   "mimetype": "text/x-python",
   "name": "python",
   "nbconvert_exporter": "python",
   "pygments_lexer": "ipython3",
   "version": "3.11.11"
  }
 },
 "nbformat": 4,
 "nbformat_minor": 5
}
