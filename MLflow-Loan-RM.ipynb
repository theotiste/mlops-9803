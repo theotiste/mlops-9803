{
 "cells": [
  {
   "cell_type": "code",
   "execution_count": null,
   "id": "675b3b2d-7f69-4e17-a570-d2a0b779fcb9",
   "metadata": {},
   "outputs": [],
   "source": [
    "#version de python\n",
    "import sys\n",
    "sys.version"
   ]
  },
  {
   "cell_type": "code",
   "execution_count": null,
   "id": "2226f6a2-5369-4286-a8a7-0b61307c5a04",
   "metadata": {},
   "outputs": [],
   "source": [
    "#version de pycaret\n",
    "import pycaret\n",
    "print(pycaret.__version__)"
   ]
  },
  {
   "cell_type": "code",
   "execution_count": null,
   "id": "c1b42f54-68b7-4ab4-a869-817e5fdb35d0",
   "metadata": {},
   "outputs": [],
   "source": [
    "#version de mlflow\n",
    "import mlflow\n",
    "print(mlflow.__version__)"
   ]
  },
  {
   "cell_type": "code",
   "execution_count": null,
   "id": "e40e94eb-0728-49ef-bb3f-2c9335aae64c",
   "metadata": {},
   "outputs": [],
   "source": [
    "#changer de dossier\n",
    "import os\n",
    "os.chdir(\"C:/Users/lucie/venv\")"
   ]
  },
  {
   "cell_type": "code",
   "execution_count": null,
   "id": "386fbfde-379b-432d-a124-63bb427dc17d",
   "metadata": {},
   "outputs": [],
   "source": [
    "import mlflow\n",
    "import time\n",
    "#importation de l'outil d'expérimentation de pycaret\n",
    "from pycaret.classification import ClassificationExperiment\n",
    "#mlflow.set_tracking_uri(\"file:///C:/Users/lucie/venv/mlruns\")\n",
    "#mlflow.set_tracking_uri(\"http://127.0.0.1:5000\")\n"
    "mlflow.set_tracking_uri(\"sqlite:///mlflow.db\")\n"
   ]
  },
  {
   "cell_type": "code",
   "execution_count": null,
   "id": "f93261b0-786a-405f-beb5-faea214d51f9",
   "metadata": {},
   "outputs": [],
   "source": [
    "#chargement des données \n",
    "import pandas as pd\n",
    "data = pd.read_csv('Loan_Data.csv')\n",
    "data.info()"
   ]
  },
  {
   "cell_type": "code",
   "execution_count": null,
   "id": "50959495-6fb3-49d5-b23d-76e57d12d89a",
   "metadata": {},
   "outputs": [],
   "source": [
    "import time\n",
    "import mlflow\n",
    "from pycaret.classification import ClassificationExperiment\n",
    "\n",
    "# S'assurer que toute session MLflow précédente est fermée\n",
    "if mlflow.active_run():\n",
    "    mlflow.end_run()\n",
    "\n",
    "# Démarrer la session primaire avec suivi MLflow\n",
    "with mlflow.start_run(run_name=\"recherche_modele\"):\n",
    "    start_time = time.time()\n",
    "\n",
    "    # Initialiser et configurer l'expérience\n",
    "    session_prim = ClassificationExperiment()\n",
    "    session_prim.setup(data, normalize=True, target='default', train_size=0.7,\n",
    "                       data_split_stratify=True, fold=5, session_id=0,\n",
    "                       log_experiment=True, experiment_name=\"recherche_modele\")\n",
    "    \n",
    "    duration = time.time() - start_time\n",
    "    mlflow.log_param(\"duration\", duration)\n",
    "    \n",
    "    # Afficher les algorithmes disponibles\n",
    "    algos = session_prim.models()\n",
    "    print(algos)\n",
    "\n",
    "    # Initialisation d'une liste vide avant la boucle\n",
    "    top_models = []\n",
    "\n",
    "    # Comparer et enregistrer la durée pour chaque modèle\n",
    "    model_list = ['lr', 'nb', 'dt', 'rf', 'svm', 'lda']\n",
    "    model_durations = {}\n",
    "\n",
    "    for model in model_list:\n",
    "        start_time = time.time()\n",
    "        mdl = session_prim.create_model(model)\n",
    "        duration = time.time() - start_time\n",
    "        model_durations[model] = duration\n",
    "        mlflow.log_param(f\"duration_{model}\", duration)\n",
    "        top_models.append(mdl)  # Correction : on passe 'mdl' comme argument\n",
    "\n",
    "        # Comparer et sélectionner les meilleurs modèles\n",
    "        best_model = session_prim.compare_models(sort='Accuracy', include=model_list, verbose=True)\n",
    "        print(\"Durées d'entraînement par modèle :\", model_durations)\n",
    "        # Extraire les résultats\n",
    "        results = session_prim.pull()\n",
    "        print(results)\n",
    "        \n",
    "        import os\n",
    "        # Passer à MLflow 2.20.2\n",
    "        os.system(\"conda activate theo1_env\")\n",
    "        #  Enregistrement du modèle \"recherche-model\" dans MLflow\n",
    "        import mlflow.sklearn\n",
    "        if hasattr(best_model, \"estimators_\"):\n",
    "           best_model = best_model.estimators_[0]  # Prendre le premier modèle du pipeline\n",
    "           mlflow.sklearn.log_model(best_model, \"recherche-model\")\n",
    "           # Ajouter au registre MLflow\n",
    "           mlflow.register_model(f\"runs:/{mlflow.active_run().info.run_id}/recherche-model\", \"recherche-model\")\n",
    "        \n",
    "           # Revenir à MLflow 1.30.1\n",
    "           os.system(\"conda activate theo_env\")\n",
    "# Fin explicite de la session (facultatif ici car le 'with' gère la fermeture)\n",
    "mlflow.end_run()\n"
   ]
  },
  {
   "cell_type": "code",
   "execution_count": null,
   "id": "2b4164f1-4d51-4393-9378-190e798bbd60",
   "metadata": {},
   "outputs": [],
   "source": []
  },
  {
   "cell_type": "code",
   "execution_count": null,
   "id": "a4df14c6-b09d-43a8-9d93-dae6effdd0fc",
   "metadata": {},
   "outputs": [],
   "source": []
  },
  {
   "cell_type": "code",
   "execution_count": null,
   "id": "f8cb9d0e-0331-4d16-97d7-a4ce7b8789ec",
   "metadata": {},
   "outputs": [],
   "source": []
  },
  {
   "cell_type": "code",
   "execution_count": null,
   "id": "8146adbc-1cde-4071-8585-6c3e720745e2",
   "metadata": {},
   "outputs": [],
   "source": []
  },
  {
   "cell_type": "code",
   "execution_count": null,
   "id": "688f0bd6-4900-442b-bee9-940a231c7d7d",
   "metadata": {},
   "outputs": [],
   "source": []
  },
  {
   "cell_type": "code",
   "execution_count": null,
   "id": "9e6d6d1d-eea2-43de-aeb1-5f593fbe16ff",
   "metadata": {},
   "outputs": [],
   "source": []
  }
 ],
 "metadata": {
  "kernelspec": {
   "display_name": "Python 3 (ipykernel)",
   "language": "python",
   "name": "python3"
  },
  "language_info": {
   "codemirror_mode": {
    "name": "ipython",
    "version": 3
   },
   "file_extension": ".py",
   "mimetype": "text/x-python",
   "name": "python",
   "nbconvert_exporter": "python",
   "pygments_lexer": "ipython3",
   "version": "3.11.11"
  }
 },
 "nbformat": 4,
 "nbformat_minor": 5
}
