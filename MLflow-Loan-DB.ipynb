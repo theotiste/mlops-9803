{
 "cells": [
  {
   "cell_type": "code",
   "execution_count": null,
   "id": "2424733d-e5c8-44a7-9dbd-3a08269363fd",
   "metadata": {},
   "outputs": [],
   "source": [
    "import mlflow\n",
    "import sqlite3\n",
    "import pandas as pd\n",
    "\n",
    "mlflow.set_tracking_uri(\"sqlite:///mlflow.db\")
    "\n",
    "# Connexion à la base de données MLflow\n",
    "conn = sqlite3.connect(\"mlflow.db\")\n",
    "\n",
    "# Lire les tables et afficher les données\n",
    "experiments_df = pd.read_sql_query(\"SELECT * FROM experiments\", conn)\n",
    "#runs_df = pd.read_sql_query(\"SELECT * FROM runs\", conn)\n",
    "\n",
    "# Afficher les résultats\n",
    "import ace_tools_open as tools\n",
    "tools.display_dataframe_to_user(name=\"Experiments Table\", dataframe=experiments_df)\n",
    "runs_df = mlflow.search_runs(experiment_ids=[\"0\"])  # Charger les runs\n",
    "#print(runs_df)\n",
    "tools.display_dataframe_to_user(name=\"Runs Table\", dataframe=runs_df)\n",
    "\n",
    "# Fermer la connexion\n",
    "conn.close()\n"
   ]
  },
  {
   "cell_type": "code",
   "execution_count": null,
   "id": "f1ec752c-1201-42b0-9385-348f2984ec35",
   "metadata": {},
   "outputs": [],
   "source": []
  }
 ],
 "metadata": {
  "kernelspec": {
   "display_name": "Python 3 (ipykernel)",
   "language": "python",
   "name": "python3"
  },
  "language_info": {
   "codemirror_mode": {
    "name": "ipython",
    "version": 3
   },
   "file_extension": ".py",
   "mimetype": "text/x-python",
   "name": "python",
   "nbconvert_exporter": "python",
   "pygments_lexer": "ipython3",
   "version": "3.11.11"
  }
 },
 "nbformat": 4,
 "nbformat_minor": 5
}
